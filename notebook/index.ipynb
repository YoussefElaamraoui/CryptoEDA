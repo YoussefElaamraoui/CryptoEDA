{
 "cells": [
  {
   "cell_type": "code",
   "id": "initial_id",
   "metadata": {
    "collapsed": true,
    "ExecuteTime": {
     "end_time": "2025-02-07T20:25:53.061512Z",
     "start_time": "2025-02-07T20:25:49.302512Z"
    }
   },
   "source": [
    "import matplotlib.pyplot as plt\n",
    "import numpy as np\n",
    "import pandas as pd"
   ],
   "outputs": [],
   "execution_count": 1
  },
  {
   "metadata": {
    "ExecuteTime": {
     "end_time": "2025-02-07T20:29:16.119295Z",
     "start_time": "2025-02-07T20:29:16.091832Z"
    }
   },
   "cell_type": "code",
   "source": "data = pd.read_csv('../data/raw/coin_Ethereum.csv')",
   "id": "6f9e6752c39d2012",
   "outputs": [],
   "execution_count": 5
  },
  {
   "metadata": {
    "ExecuteTime": {
     "end_time": "2025-02-07T20:29:29.405485Z",
     "start_time": "2025-02-07T20:29:29.376420Z"
    }
   },
   "cell_type": "code",
   "source": "data.info()",
   "id": "8a34937a6d6ec84b",
   "outputs": [
    {
     "name": "stdout",
     "output_type": "stream",
     "text": [
      "<class 'pandas.core.frame.DataFrame'>\n",
      "RangeIndex: 2160 entries, 0 to 2159\n",
      "Data columns (total 10 columns):\n",
      " #   Column     Non-Null Count  Dtype  \n",
      "---  ------     --------------  -----  \n",
      " 0   SNo        2160 non-null   int64  \n",
      " 1   Name       2160 non-null   object \n",
      " 2   Symbol     2160 non-null   object \n",
      " 3   Date       2160 non-null   object \n",
      " 4   High       2160 non-null   float64\n",
      " 5   Low        2160 non-null   float64\n",
      " 6   Open       2160 non-null   float64\n",
      " 7   Close      2160 non-null   float64\n",
      " 8   Volume     2160 non-null   float64\n",
      " 9   Marketcap  2160 non-null   float64\n",
      "dtypes: float64(6), int64(1), object(3)\n",
      "memory usage: 168.9+ KB\n"
     ]
    }
   ],
   "execution_count": 7
  },
  {
   "metadata": {
    "ExecuteTime": {
     "end_time": "2025-02-07T20:33:34.177187Z",
     "start_time": "2025-02-07T20:33:34.134142Z"
    }
   },
   "cell_type": "code",
   "source": "data.describe()",
   "id": "fed081199bd84730",
   "outputs": [
    {
     "data": {
      "text/plain": [
       "               SNo         High          Low         Open        Close  \\\n",
       "count  2160.000000  2160.000000  2160.000000  2160.000000  2160.000000   \n",
       "mean   1080.500000   398.258568   365.592589   382.879899   383.910691   \n",
       "std     623.682612   628.082281   566.611523   599.719862   601.078766   \n",
       "min       1.000000     0.482988     0.420897     0.431589     0.434829   \n",
       "25%     540.750000    14.265225    13.190950    13.757600    13.819200   \n",
       "50%    1080.500000   205.124631   193.302715   198.425096   198.643691   \n",
       "75%    1620.250000   396.494561   375.146804   386.264935   386.435272   \n",
       "max    2160.000000  4362.350542  3785.848603  4174.635873  4168.701049   \n",
       "\n",
       "             Volume     Marketcap  \n",
       "count  2.160000e+03  2.160000e+03  \n",
       "mean   7.057058e+09  4.172084e+10  \n",
       "std    1.064526e+10  6.909184e+10  \n",
       "min    1.021280e+05  3.221363e+07  \n",
       "25%    3.825102e+07  1.135576e+09  \n",
       "50%    2.148880e+09  2.070063e+10  \n",
       "75%    9.629136e+09  4.231010e+10  \n",
       "max    8.448291e+10  4.828819e+11  "
      ],
      "text/html": [
       "<div>\n",
       "<style scoped>\n",
       "    .dataframe tbody tr th:only-of-type {\n",
       "        vertical-align: middle;\n",
       "    }\n",
       "\n",
       "    .dataframe tbody tr th {\n",
       "        vertical-align: top;\n",
       "    }\n",
       "\n",
       "    .dataframe thead th {\n",
       "        text-align: right;\n",
       "    }\n",
       "</style>\n",
       "<table border=\"1\" class=\"dataframe\">\n",
       "  <thead>\n",
       "    <tr style=\"text-align: right;\">\n",
       "      <th></th>\n",
       "      <th>SNo</th>\n",
       "      <th>High</th>\n",
       "      <th>Low</th>\n",
       "      <th>Open</th>\n",
       "      <th>Close</th>\n",
       "      <th>Volume</th>\n",
       "      <th>Marketcap</th>\n",
       "    </tr>\n",
       "  </thead>\n",
       "  <tbody>\n",
       "    <tr>\n",
       "      <th>count</th>\n",
       "      <td>2160.000000</td>\n",
       "      <td>2160.000000</td>\n",
       "      <td>2160.000000</td>\n",
       "      <td>2160.000000</td>\n",
       "      <td>2160.000000</td>\n",
       "      <td>2.160000e+03</td>\n",
       "      <td>2.160000e+03</td>\n",
       "    </tr>\n",
       "    <tr>\n",
       "      <th>mean</th>\n",
       "      <td>1080.500000</td>\n",
       "      <td>398.258568</td>\n",
       "      <td>365.592589</td>\n",
       "      <td>382.879899</td>\n",
       "      <td>383.910691</td>\n",
       "      <td>7.057058e+09</td>\n",
       "      <td>4.172084e+10</td>\n",
       "    </tr>\n",
       "    <tr>\n",
       "      <th>std</th>\n",
       "      <td>623.682612</td>\n",
       "      <td>628.082281</td>\n",
       "      <td>566.611523</td>\n",
       "      <td>599.719862</td>\n",
       "      <td>601.078766</td>\n",
       "      <td>1.064526e+10</td>\n",
       "      <td>6.909184e+10</td>\n",
       "    </tr>\n",
       "    <tr>\n",
       "      <th>min</th>\n",
       "      <td>1.000000</td>\n",
       "      <td>0.482988</td>\n",
       "      <td>0.420897</td>\n",
       "      <td>0.431589</td>\n",
       "      <td>0.434829</td>\n",
       "      <td>1.021280e+05</td>\n",
       "      <td>3.221363e+07</td>\n",
       "    </tr>\n",
       "    <tr>\n",
       "      <th>25%</th>\n",
       "      <td>540.750000</td>\n",
       "      <td>14.265225</td>\n",
       "      <td>13.190950</td>\n",
       "      <td>13.757600</td>\n",
       "      <td>13.819200</td>\n",
       "      <td>3.825102e+07</td>\n",
       "      <td>1.135576e+09</td>\n",
       "    </tr>\n",
       "    <tr>\n",
       "      <th>50%</th>\n",
       "      <td>1080.500000</td>\n",
       "      <td>205.124631</td>\n",
       "      <td>193.302715</td>\n",
       "      <td>198.425096</td>\n",
       "      <td>198.643691</td>\n",
       "      <td>2.148880e+09</td>\n",
       "      <td>2.070063e+10</td>\n",
       "    </tr>\n",
       "    <tr>\n",
       "      <th>75%</th>\n",
       "      <td>1620.250000</td>\n",
       "      <td>396.494561</td>\n",
       "      <td>375.146804</td>\n",
       "      <td>386.264935</td>\n",
       "      <td>386.435272</td>\n",
       "      <td>9.629136e+09</td>\n",
       "      <td>4.231010e+10</td>\n",
       "    </tr>\n",
       "    <tr>\n",
       "      <th>max</th>\n",
       "      <td>2160.000000</td>\n",
       "      <td>4362.350542</td>\n",
       "      <td>3785.848603</td>\n",
       "      <td>4174.635873</td>\n",
       "      <td>4168.701049</td>\n",
       "      <td>8.448291e+10</td>\n",
       "      <td>4.828819e+11</td>\n",
       "    </tr>\n",
       "  </tbody>\n",
       "</table>\n",
       "</div>"
      ]
     },
     "execution_count": 12,
     "metadata": {},
     "output_type": "execute_result"
    }
   ],
   "execution_count": 12
  },
  {
   "metadata": {
    "ExecuteTime": {
     "end_time": "2025-02-07T20:33:37.426559Z",
     "start_time": "2025-02-07T20:33:37.415708Z"
    }
   },
   "cell_type": "code",
   "source": "data.head(20)",
   "id": "bd81bb90bc0759b4",
   "outputs": [
    {
     "data": {
      "text/plain": [
       "    SNo      Name Symbol                 Date      High       Low      Open  \\\n",
       "0     1  Ethereum    ETH  2015-08-08 23:59:59  2.798810  0.714725  2.793760   \n",
       "1     2  Ethereum    ETH  2015-08-09 23:59:59  0.879810  0.629191  0.706136   \n",
       "2     3  Ethereum    ETH  2015-08-10 23:59:59  0.729854  0.636546  0.713989   \n",
       "3     4  Ethereum    ETH  2015-08-11 23:59:59  1.131410  0.663235  0.708087   \n",
       "4     5  Ethereum    ETH  2015-08-12 23:59:59  1.289940  0.883608  1.058750   \n",
       "5     6  Ethereum    ETH  2015-08-13 23:59:59  1.965070  1.171990  1.222240   \n",
       "6     7  Ethereum    ETH  2015-08-14 23:59:59  2.261880  1.754750  1.810920   \n",
       "7     8  Ethereum    ETH  2015-08-15 23:59:59  1.877240  1.570980  1.802890   \n",
       "8     9  Ethereum    ETH  2015-08-16 23:59:59  1.695240  1.089810  1.684350   \n",
       "9    10  Ethereum    ETH  2015-08-17 23:59:59  1.581190  1.185340  1.581190   \n",
       "10   11  Ethereum    ETH  2015-08-18 23:59:59  1.331160  1.087050  1.215300   \n",
       "11   12  Ethereum    ETH  2015-08-19 23:59:59  1.317990  1.166930  1.166930   \n",
       "12   13  Ethereum    ETH  2015-08-20 23:59:59  1.533300  1.248330  1.251180   \n",
       "13   14  Ethereum    ETH  2015-08-21 23:59:59  1.556420  1.352800  1.477520   \n",
       "14   15  Ethereum    ETH  2015-08-22 23:59:59  1.476410  1.352680  1.396290   \n",
       "15   16  Ethereum    ETH  2015-08-23 23:59:59  1.409700  1.297770  1.375000   \n",
       "16   17  Ethereum    ETH  2015-08-24 23:59:59  1.362780  1.231270  1.345590   \n",
       "17   18  Ethereum    ETH  2015-08-25 23:59:59  1.241820  1.128650  1.228610   \n",
       "18   19  Ethereum    ETH  2015-08-26 23:59:59  1.202480  1.061830  1.132790   \n",
       "19   20  Ethereum    ETH  2015-08-27 23:59:59  1.188830  1.137290  1.169810   \n",
       "\n",
       "       Close     Volume     Marketcap  \n",
       "0   0.753325   674188.0  4.548689e+07  \n",
       "1   0.701897   532170.0  4.239957e+07  \n",
       "2   0.708448   405283.0  4.281836e+07  \n",
       "3   1.067860  1463100.0  6.456929e+07  \n",
       "4   1.217440  2150620.0  7.364501e+07  \n",
       "5   1.827670  4068680.0  1.106072e+08  \n",
       "6   1.827870  4637030.0  1.106723e+08  \n",
       "7   1.688900  2554360.0  1.023036e+08  \n",
       "8   1.566030  3550790.0  9.490101e+07  \n",
       "9   1.203610  1942830.0  8.729537e+07  \n",
       "10  1.087050  1485680.0  7.886841e+07  \n",
       "11  1.258860  1486240.0  9.136639e+07  \n",
       "12  1.464920  2843760.0  1.063514e+08  \n",
       "13  1.395290  2020970.0  1.013319e+08  \n",
       "14  1.379230   948310.0  1.002018e+08  \n",
       "15  1.352590  1589300.0  9.830035e+07  \n",
       "16  1.231270   924920.0  8.951526e+07  \n",
       "17  1.140190  1307180.0  8.292263e+07  \n",
       "18  1.159980  1056750.0  8.439092e+07  \n",
       "19  1.147700   686662.0  8.352459e+07  "
      ],
      "text/html": [
       "<div>\n",
       "<style scoped>\n",
       "    .dataframe tbody tr th:only-of-type {\n",
       "        vertical-align: middle;\n",
       "    }\n",
       "\n",
       "    .dataframe tbody tr th {\n",
       "        vertical-align: top;\n",
       "    }\n",
       "\n",
       "    .dataframe thead th {\n",
       "        text-align: right;\n",
       "    }\n",
       "</style>\n",
       "<table border=\"1\" class=\"dataframe\">\n",
       "  <thead>\n",
       "    <tr style=\"text-align: right;\">\n",
       "      <th></th>\n",
       "      <th>SNo</th>\n",
       "      <th>Name</th>\n",
       "      <th>Symbol</th>\n",
       "      <th>Date</th>\n",
       "      <th>High</th>\n",
       "      <th>Low</th>\n",
       "      <th>Open</th>\n",
       "      <th>Close</th>\n",
       "      <th>Volume</th>\n",
       "      <th>Marketcap</th>\n",
       "    </tr>\n",
       "  </thead>\n",
       "  <tbody>\n",
       "    <tr>\n",
       "      <th>0</th>\n",
       "      <td>1</td>\n",
       "      <td>Ethereum</td>\n",
       "      <td>ETH</td>\n",
       "      <td>2015-08-08 23:59:59</td>\n",
       "      <td>2.798810</td>\n",
       "      <td>0.714725</td>\n",
       "      <td>2.793760</td>\n",
       "      <td>0.753325</td>\n",
       "      <td>674188.0</td>\n",
       "      <td>4.548689e+07</td>\n",
       "    </tr>\n",
       "    <tr>\n",
       "      <th>1</th>\n",
       "      <td>2</td>\n",
       "      <td>Ethereum</td>\n",
       "      <td>ETH</td>\n",
       "      <td>2015-08-09 23:59:59</td>\n",
       "      <td>0.879810</td>\n",
       "      <td>0.629191</td>\n",
       "      <td>0.706136</td>\n",
       "      <td>0.701897</td>\n",
       "      <td>532170.0</td>\n",
       "      <td>4.239957e+07</td>\n",
       "    </tr>\n",
       "    <tr>\n",
       "      <th>2</th>\n",
       "      <td>3</td>\n",
       "      <td>Ethereum</td>\n",
       "      <td>ETH</td>\n",
       "      <td>2015-08-10 23:59:59</td>\n",
       "      <td>0.729854</td>\n",
       "      <td>0.636546</td>\n",
       "      <td>0.713989</td>\n",
       "      <td>0.708448</td>\n",
       "      <td>405283.0</td>\n",
       "      <td>4.281836e+07</td>\n",
       "    </tr>\n",
       "    <tr>\n",
       "      <th>3</th>\n",
       "      <td>4</td>\n",
       "      <td>Ethereum</td>\n",
       "      <td>ETH</td>\n",
       "      <td>2015-08-11 23:59:59</td>\n",
       "      <td>1.131410</td>\n",
       "      <td>0.663235</td>\n",
       "      <td>0.708087</td>\n",
       "      <td>1.067860</td>\n",
       "      <td>1463100.0</td>\n",
       "      <td>6.456929e+07</td>\n",
       "    </tr>\n",
       "    <tr>\n",
       "      <th>4</th>\n",
       "      <td>5</td>\n",
       "      <td>Ethereum</td>\n",
       "      <td>ETH</td>\n",
       "      <td>2015-08-12 23:59:59</td>\n",
       "      <td>1.289940</td>\n",
       "      <td>0.883608</td>\n",
       "      <td>1.058750</td>\n",
       "      <td>1.217440</td>\n",
       "      <td>2150620.0</td>\n",
       "      <td>7.364501e+07</td>\n",
       "    </tr>\n",
       "    <tr>\n",
       "      <th>5</th>\n",
       "      <td>6</td>\n",
       "      <td>Ethereum</td>\n",
       "      <td>ETH</td>\n",
       "      <td>2015-08-13 23:59:59</td>\n",
       "      <td>1.965070</td>\n",
       "      <td>1.171990</td>\n",
       "      <td>1.222240</td>\n",
       "      <td>1.827670</td>\n",
       "      <td>4068680.0</td>\n",
       "      <td>1.106072e+08</td>\n",
       "    </tr>\n",
       "    <tr>\n",
       "      <th>6</th>\n",
       "      <td>7</td>\n",
       "      <td>Ethereum</td>\n",
       "      <td>ETH</td>\n",
       "      <td>2015-08-14 23:59:59</td>\n",
       "      <td>2.261880</td>\n",
       "      <td>1.754750</td>\n",
       "      <td>1.810920</td>\n",
       "      <td>1.827870</td>\n",
       "      <td>4637030.0</td>\n",
       "      <td>1.106723e+08</td>\n",
       "    </tr>\n",
       "    <tr>\n",
       "      <th>7</th>\n",
       "      <td>8</td>\n",
       "      <td>Ethereum</td>\n",
       "      <td>ETH</td>\n",
       "      <td>2015-08-15 23:59:59</td>\n",
       "      <td>1.877240</td>\n",
       "      <td>1.570980</td>\n",
       "      <td>1.802890</td>\n",
       "      <td>1.688900</td>\n",
       "      <td>2554360.0</td>\n",
       "      <td>1.023036e+08</td>\n",
       "    </tr>\n",
       "    <tr>\n",
       "      <th>8</th>\n",
       "      <td>9</td>\n",
       "      <td>Ethereum</td>\n",
       "      <td>ETH</td>\n",
       "      <td>2015-08-16 23:59:59</td>\n",
       "      <td>1.695240</td>\n",
       "      <td>1.089810</td>\n",
       "      <td>1.684350</td>\n",
       "      <td>1.566030</td>\n",
       "      <td>3550790.0</td>\n",
       "      <td>9.490101e+07</td>\n",
       "    </tr>\n",
       "    <tr>\n",
       "      <th>9</th>\n",
       "      <td>10</td>\n",
       "      <td>Ethereum</td>\n",
       "      <td>ETH</td>\n",
       "      <td>2015-08-17 23:59:59</td>\n",
       "      <td>1.581190</td>\n",
       "      <td>1.185340</td>\n",
       "      <td>1.581190</td>\n",
       "      <td>1.203610</td>\n",
       "      <td>1942830.0</td>\n",
       "      <td>8.729537e+07</td>\n",
       "    </tr>\n",
       "    <tr>\n",
       "      <th>10</th>\n",
       "      <td>11</td>\n",
       "      <td>Ethereum</td>\n",
       "      <td>ETH</td>\n",
       "      <td>2015-08-18 23:59:59</td>\n",
       "      <td>1.331160</td>\n",
       "      <td>1.087050</td>\n",
       "      <td>1.215300</td>\n",
       "      <td>1.087050</td>\n",
       "      <td>1485680.0</td>\n",
       "      <td>7.886841e+07</td>\n",
       "    </tr>\n",
       "    <tr>\n",
       "      <th>11</th>\n",
       "      <td>12</td>\n",
       "      <td>Ethereum</td>\n",
       "      <td>ETH</td>\n",
       "      <td>2015-08-19 23:59:59</td>\n",
       "      <td>1.317990</td>\n",
       "      <td>1.166930</td>\n",
       "      <td>1.166930</td>\n",
       "      <td>1.258860</td>\n",
       "      <td>1486240.0</td>\n",
       "      <td>9.136639e+07</td>\n",
       "    </tr>\n",
       "    <tr>\n",
       "      <th>12</th>\n",
       "      <td>13</td>\n",
       "      <td>Ethereum</td>\n",
       "      <td>ETH</td>\n",
       "      <td>2015-08-20 23:59:59</td>\n",
       "      <td>1.533300</td>\n",
       "      <td>1.248330</td>\n",
       "      <td>1.251180</td>\n",
       "      <td>1.464920</td>\n",
       "      <td>2843760.0</td>\n",
       "      <td>1.063514e+08</td>\n",
       "    </tr>\n",
       "    <tr>\n",
       "      <th>13</th>\n",
       "      <td>14</td>\n",
       "      <td>Ethereum</td>\n",
       "      <td>ETH</td>\n",
       "      <td>2015-08-21 23:59:59</td>\n",
       "      <td>1.556420</td>\n",
       "      <td>1.352800</td>\n",
       "      <td>1.477520</td>\n",
       "      <td>1.395290</td>\n",
       "      <td>2020970.0</td>\n",
       "      <td>1.013319e+08</td>\n",
       "    </tr>\n",
       "    <tr>\n",
       "      <th>14</th>\n",
       "      <td>15</td>\n",
       "      <td>Ethereum</td>\n",
       "      <td>ETH</td>\n",
       "      <td>2015-08-22 23:59:59</td>\n",
       "      <td>1.476410</td>\n",
       "      <td>1.352680</td>\n",
       "      <td>1.396290</td>\n",
       "      <td>1.379230</td>\n",
       "      <td>948310.0</td>\n",
       "      <td>1.002018e+08</td>\n",
       "    </tr>\n",
       "    <tr>\n",
       "      <th>15</th>\n",
       "      <td>16</td>\n",
       "      <td>Ethereum</td>\n",
       "      <td>ETH</td>\n",
       "      <td>2015-08-23 23:59:59</td>\n",
       "      <td>1.409700</td>\n",
       "      <td>1.297770</td>\n",
       "      <td>1.375000</td>\n",
       "      <td>1.352590</td>\n",
       "      <td>1589300.0</td>\n",
       "      <td>9.830035e+07</td>\n",
       "    </tr>\n",
       "    <tr>\n",
       "      <th>16</th>\n",
       "      <td>17</td>\n",
       "      <td>Ethereum</td>\n",
       "      <td>ETH</td>\n",
       "      <td>2015-08-24 23:59:59</td>\n",
       "      <td>1.362780</td>\n",
       "      <td>1.231270</td>\n",
       "      <td>1.345590</td>\n",
       "      <td>1.231270</td>\n",
       "      <td>924920.0</td>\n",
       "      <td>8.951526e+07</td>\n",
       "    </tr>\n",
       "    <tr>\n",
       "      <th>17</th>\n",
       "      <td>18</td>\n",
       "      <td>Ethereum</td>\n",
       "      <td>ETH</td>\n",
       "      <td>2015-08-25 23:59:59</td>\n",
       "      <td>1.241820</td>\n",
       "      <td>1.128650</td>\n",
       "      <td>1.228610</td>\n",
       "      <td>1.140190</td>\n",
       "      <td>1307180.0</td>\n",
       "      <td>8.292263e+07</td>\n",
       "    </tr>\n",
       "    <tr>\n",
       "      <th>18</th>\n",
       "      <td>19</td>\n",
       "      <td>Ethereum</td>\n",
       "      <td>ETH</td>\n",
       "      <td>2015-08-26 23:59:59</td>\n",
       "      <td>1.202480</td>\n",
       "      <td>1.061830</td>\n",
       "      <td>1.132790</td>\n",
       "      <td>1.159980</td>\n",
       "      <td>1056750.0</td>\n",
       "      <td>8.439092e+07</td>\n",
       "    </tr>\n",
       "    <tr>\n",
       "      <th>19</th>\n",
       "      <td>20</td>\n",
       "      <td>Ethereum</td>\n",
       "      <td>ETH</td>\n",
       "      <td>2015-08-27 23:59:59</td>\n",
       "      <td>1.188830</td>\n",
       "      <td>1.137290</td>\n",
       "      <td>1.169810</td>\n",
       "      <td>1.147700</td>\n",
       "      <td>686662.0</td>\n",
       "      <td>8.352459e+07</td>\n",
       "    </tr>\n",
       "  </tbody>\n",
       "</table>\n",
       "</div>"
      ]
     },
     "execution_count": 13,
     "metadata": {},
     "output_type": "execute_result"
    }
   ],
   "execution_count": 13
  },
  {
   "metadata": {
    "ExecuteTime": {
     "end_time": "2025-02-07T21:05:09.801665Z",
     "start_time": "2025-02-07T21:05:09.761974Z"
    }
   },
   "cell_type": "code",
   "source": "utc = pd.to_datetime(data['Date'],utc=True)",
   "id": "2431aefc60ca1da7",
   "outputs": [],
   "execution_count": 21
  },
  {
   "metadata": {
    "ExecuteTime": {
     "end_time": "2025-02-07T21:05:18.593467Z",
     "start_time": "2025-02-07T21:05:18.573679Z"
    }
   },
   "cell_type": "code",
   "source": "utc",
   "id": "ccbffa589f07add0",
   "outputs": [
    {
     "data": {
      "text/plain": [
       "0      2015-08-08 23:59:59+00:00\n",
       "1      2015-08-09 23:59:59+00:00\n",
       "2      2015-08-10 23:59:59+00:00\n",
       "3      2015-08-11 23:59:59+00:00\n",
       "4      2015-08-12 23:59:59+00:00\n",
       "                  ...           \n",
       "2155   2021-07-02 23:59:59+00:00\n",
       "2156   2021-07-03 23:59:59+00:00\n",
       "2157   2021-07-04 23:59:59+00:00\n",
       "2158   2021-07-05 23:59:59+00:00\n",
       "2159   2021-07-06 23:59:59+00:00\n",
       "Name: Date, Length: 2160, dtype: datetime64[ns, UTC]"
      ]
     },
     "execution_count": 22,
     "metadata": {},
     "output_type": "execute_result"
    }
   ],
   "execution_count": 22
  },
  {
   "metadata": {
    "ExecuteTime": {
     "end_time": "2025-02-07T21:06:03.776516Z",
     "start_time": "2025-02-07T21:06:03.758319Z"
    }
   },
   "cell_type": "code",
   "source": "data['Date'] = utc",
   "id": "20cfd1ea903e1315",
   "outputs": [],
   "execution_count": 23
  },
  {
   "metadata": {
    "ExecuteTime": {
     "end_time": "2025-02-07T21:18:09.840767Z",
     "start_time": "2025-02-07T21:18:09.833768Z"
    }
   },
   "cell_type": "code",
   "source": [
    "#change the index because the x-axis is the index value\n",
    "data.set_index('Date', inplace=True)"
   ],
   "id": "664aef42ec85cdfa",
   "outputs": [],
   "execution_count": 28
  },
  {
   "metadata": {
    "ExecuteTime": {
     "end_time": "2025-02-07T21:18:10.304612Z",
     "start_time": "2025-02-07T21:18:10.188594Z"
    }
   },
   "cell_type": "code",
   "source": "data['Close'].plot.line()",
   "id": "650ac992ecd19d",
   "outputs": [
    {
     "data": {
      "text/plain": [
       "<AxesSubplot:xlabel='Date'>"
      ]
     },
     "execution_count": 29,
     "metadata": {},
     "output_type": "execute_result"
    },
    {
     "data": {
      "text/plain": [
       "<Figure size 432x288 with 1 Axes>"
      ],
      "image/png": "[encoded data removed]"
     },
     "metadata": {
      "needs_background": "light"
     },
     "output_type": "display_data"
    }
   ],
   "execution_count": 29
  },
  {
   "metadata": {
    "ExecuteTime": {
     "end_time": "2025-02-07T21:18:13.331105Z",
     "start_time": "2025-02-07T21:18:13.325425Z"
    }
   },
   "cell_type": "code",
   "source": "data['Close'].max(), data['Close'].min()",
   "id": "d86755c05f377fc",
   "outputs": [
    {
     "data": {
      "text/plain": [
       "(4168.70104865, 0.4348289966583252)"
      ]
     },
     "execution_count": 30,
     "metadata": {},
     "output_type": "execute_result"
    }
   ],
   "execution_count": 30
  },
  {
   "metadata": {
    "ExecuteTime": {
     "end_time": "2025-02-07T21:18:13.923215Z",
     "start_time": "2025-02-07T21:18:13.916811Z"
    }
   },
   "cell_type": "code",
   "source": "data['Close'].agg(['mean', 'max', 'min'])",
   "id": "abe0ec9f61851c9a",
   "outputs": [
    {
     "data": {
      "text/plain": [
       "mean     383.910691\n",
       "max     4168.701049\n",
       "min        0.434829\n",
       "Name: Close, dtype: float64"
      ]
     },
     "execution_count": 31,
     "metadata": {},
     "output_type": "execute_result"
    }
   ],
   "execution_count": 31
  },
  {
   "metadata": {
    "ExecuteTime": {
     "end_time": "2025-02-07T21:19:37.448908Z",
     "start_time": "2025-02-07T21:19:37.303967Z"
    }
   },
   "cell_type": "code",
   "source": [
    "data['MA_7'] = data['Close'].rolling(window=7).mean()\n",
    "data[['Close', 'MA_7']].plot(figsize=(10, 5), title='Ethereum Close Price with 7-day Moving Average')"
   ],
   "id": "8b4ba077e1a13ba1",
   "outputs": [
    {
     "data": {
      "text/plain": [
       "<AxesSubplot:title={'center':'Ethereum Close Price with 7-day Moving Average'}, xlabel='Date'>"
      ]
     },
     "execution_count": 33,
     "metadata": {},
     "output_type": "execute_result"
    },
    {
     "data": {
      "text/plain": [
       "<Figure size 720x360 with 1 Axes>"
      ],
      "image/png": "[encoded data removed]"
     },
     "metadata": {
      "needs_background": "light"
     },
     "output_type": "display_data"
    }
   ],
   "execution_count": 33
  },
  {
   "metadata": {},
   "cell_type": "code",
   "outputs": [],
   "execution_count": null,
   "source": "",
   "id": "930cf4df99e16b54"
  }
 ],
 "metadata": {
  "kernelspec": {
   "display_name": "Python 3",
   "language": "python",
   "name": "python3"
  },
  "language_info": {
   "codemirror_mode": {
    "name": "ipython",
    "version": 2
   },
   "file_extension": ".py",
   "mimetype": "text/x-python",
   "name": "python",
   "nbconvert_exporter": "python",
   "pygments_lexer": "ipython2",
   "version": "2.7.6"
  }
 },
 "nbformat": 4,
 "nbformat_minor": 5
}
